{
 "cells": [
  {
   "cell_type": "code",
   "execution_count": null,
   "metadata": {},
   "outputs": [],
   "source": [
    "import pandas as pd"
   ]
  },
  {
   "cell_type": "code",
   "execution_count": 2,
   "metadata": {},
   "outputs": [
    {
     "name": "stderr",
     "output_type": "stream",
     "text": [
      "/tmp/ipykernel_3936/2499483312.py:1: DtypeWarning: Columns (0,1,2,4,6,8,9,10,14,15,20) have mixed types. Specify dtype option on import or set low_memory=False.\n",
      "  df = pd.read_csv(\"/home/emir/Desktop/dev/datasets/nft_new/nft_datasets/Data_API.csv\")\n"
     ]
    }
   ],
   "source": [
    "df = pd.read_csv(\"/home/emir/Desktop/dev/datasets/nft_new/nft_datasets/Data_API.csv\")"
   ]
  },
  {
   "cell_type": "code",
   "execution_count": 14,
   "metadata": {},
   "outputs": [
    {
     "data": {
      "text/plain": [
       "Index(['Smart_contract', 'ID_token', 'Transaction_hash', 'Seller_address',\n",
       "       'Seller_username', 'Buyer_address', 'Buyer_username', 'Image_url_1',\n",
       "       'Image_url_2', 'Image_url_3', 'Image_url_4', 'Price_Crypto', 'Crypto',\n",
       "       'Price_USD', 'Name', 'Description', 'Collection', 'Market',\n",
       "       'Datetime_updated', 'Datetime_updated_seconds', 'Permanent_link',\n",
       "       'Unique_id_collection', 'Collection_cleaned', 'Category'],\n",
       "      dtype='object')"
      ]
     },
     "execution_count": 14,
     "metadata": {},
     "output_type": "execute_result"
    }
   ],
   "source": [
    "df.columns"
   ]
  },
  {
   "cell_type": "code",
   "execution_count": 23,
   "metadata": {},
   "outputs": [
    {
     "data": {
      "text/plain": [
       "('https://lh3.googleusercontent.com/JVCKoV39d7wljtTGcyA1UZ7jJ7CQowfDeTQ5JG0VJewYGryuwT4L4TMkPXw6P6ESZ7ulrVaP_wDx6JhFIFgQIbR-ejOywl31uljMCg',\n",
       " 'Rare Player Cards are only issued at 100 editions per season.')"
      ]
     },
     "execution_count": 23,
     "metadata": {},
     "output_type": "execute_result"
    }
   ],
   "source": [
    "df['Image_url_1'][6000000], df['Description'][6000000],"
   ]
  },
  {
   "cell_type": "code",
   "execution_count": null,
   "metadata": {},
   "outputs": [],
   "source": [
    "df =  pd.read_csv( \"/home/emir/Desktop/dev/datasets/nft_dataset/NFT_IMAGES/metadata.csv\").head()"
   ]
  },
  {
   "cell_type": "code",
   "execution_count": null,
   "metadata": {},
   "outputs": [],
   "source": [
    "df[df['file_name']]"
   ]
  }
 ],
 "metadata": {
  "kernelspec": {
   "display_name": "difgan",
   "language": "python",
   "name": "python3"
  },
  "language_info": {
   "codemirror_mode": {
    "name": "ipython",
    "version": 3
   },
   "file_extension": ".py",
   "mimetype": "text/x-python",
   "name": "python",
   "nbconvert_exporter": "python",
   "pygments_lexer": "ipython3",
   "version": "3.9.18"
  }
 },
 "nbformat": 4,
 "nbformat_minor": 2
}
