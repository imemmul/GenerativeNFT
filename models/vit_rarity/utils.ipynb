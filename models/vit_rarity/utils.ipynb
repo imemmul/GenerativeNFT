{
 "cells": [
  {
   "cell_type": "code",
   "execution_count": 1,
   "metadata": {},
   "outputs": [
    {
     "name": "stdout",
     "output_type": "stream",
     "text": [
      "Cloning into 'GenerativeNFT'...\n",
      "remote: Enumerating objects: 431, done.\u001b[K\n",
      "remote: Counting objects: 100% (201/201), done.\u001b[K\n",
      "remote: Compressing objects: 100% (142/142), done.\u001b[K\n",
      "remote: Total 431 (delta 47), reused 170 (delta 29), pack-reused 230\u001b[K\n",
      "Receiving objects: 100% (431/431), 58.19 MiB | 11.74 MiB/s, done.\n",
      "Resolving deltas: 100% (79/79), done.\n"
     ]
    }
   ],
   "source": [
    "!git clone https://github.com/imemmul/GenerativeNFT.git"
   ]
  },
  {
   "cell_type": "code",
   "execution_count": 1,
   "metadata": {},
   "outputs": [],
   "source": [
    "import pandas as pd\n",
    "\n",
    "df = pd.read_csv('/Users/beyzakaya/Desktop/bk/Akademik/Senior Design Project/rarity/old_dataset_rarity.csv')"
   ]
  },
  {
   "cell_type": "code",
   "execution_count": 2,
   "metadata": {},
   "outputs": [
    {
     "data": {
      "text/plain": [
       "35952"
      ]
     },
     "execution_count": 2,
     "metadata": {},
     "output_type": "execute_result"
    }
   ],
   "source": [
    "len(df)"
   ]
  },
  {
   "cell_type": "code",
   "execution_count": 3,
   "metadata": {},
   "outputs": [
    {
     "data": {
      "text/plain": [
       "Index(['Unnamed: 0.1', 'Unnamed: 0', 'onChainName', 'rarity', 'dict',\n",
       "       'rank_values_merarity', 'rank_values_moonrank', 'label', 'cls_label'],\n",
       "      dtype='object')"
      ]
     },
     "execution_count": 3,
     "metadata": {},
     "output_type": "execute_result"
    }
   ],
   "source": [
    "df.columns"
   ]
  },
  {
   "cell_type": "code",
   "execution_count": 5,
   "metadata": {},
   "outputs": [
    {
     "data": {
      "text/plain": [
       "0        0.625725\n",
       "1        0.669134\n",
       "2        0.859572\n",
       "3        0.097319\n",
       "4        0.363573\n",
       "           ...   \n",
       "35947    0.544145\n",
       "35948    0.335951\n",
       "35949    0.839728\n",
       "35950    0.184433\n",
       "35951    0.954780\n",
       "Name: label, Length: 35952, dtype: float64"
      ]
     },
     "execution_count": 5,
     "metadata": {},
     "output_type": "execute_result"
    }
   ],
   "source": [
    "df['label'] # direct value of the rarity for threshold calculation"
   ]
  },
  {
   "cell_type": "code",
   "execution_count": 6,
   "metadata": {},
   "outputs": [
    {
     "data": {
      "text/plain": [
       "0        0.0\n",
       "1        0.0\n",
       "2        0.0\n",
       "3        0.0\n",
       "4        0.0\n",
       "        ... \n",
       "35947    0.0\n",
       "35948    0.0\n",
       "35949    0.0\n",
       "35950    0.0\n",
       "35951    0.0\n",
       "Name: cls_label, Length: 35952, dtype: float64"
      ]
     },
     "execution_count": 6,
     "metadata": {},
     "output_type": "execute_result"
    }
   ],
   "source": [
    "df['cls_label'] # class label for rare and common"
   ]
  },
  {
   "cell_type": "code",
   "execution_count": 7,
   "metadata": {},
   "outputs": [
    {
     "data": {
      "text/plain": [
       "0         6256.0\n",
       "1         6690.0\n",
       "2         8594.0\n",
       "3          973.0\n",
       "4         3635.0\n",
       "          ...   \n",
       "35947    10878.0\n",
       "35948     6716.0\n",
       "35949    16787.0\n",
       "35950     3687.0\n",
       "35951    19087.0\n",
       "Name: rank_values_merarity, Length: 35952, dtype: float64"
      ]
     },
     "execution_count": 7,
     "metadata": {},
     "output_type": "execute_result"
    }
   ],
   "source": [
    "df['rank_values_merarity']"
   ]
  },
  {
   "cell_type": "code",
   "execution_count": 4,
   "metadata": {},
   "outputs": [
    {
     "data": {
      "text/html": [
       "<div>\n",
       "<style scoped>\n",
       "    .dataframe tbody tr th:only-of-type {\n",
       "        vertical-align: middle;\n",
       "    }\n",
       "\n",
       "    .dataframe tbody tr th {\n",
       "        vertical-align: top;\n",
       "    }\n",
       "\n",
       "    .dataframe thead th {\n",
       "        text-align: right;\n",
       "    }\n",
       "</style>\n",
       "<table border=\"1\" class=\"dataframe\">\n",
       "  <thead>\n",
       "    <tr style=\"text-align: right;\">\n",
       "      <th></th>\n",
       "      <th>Unnamed: 0.1</th>\n",
       "      <th>Unnamed: 0</th>\n",
       "      <th>onChainName</th>\n",
       "      <th>rarity</th>\n",
       "      <th>dict</th>\n",
       "      <th>rank_values_merarity</th>\n",
       "      <th>rank_values_moonrank</th>\n",
       "      <th>label</th>\n",
       "      <th>cls_label</th>\n",
       "    </tr>\n",
       "  </thead>\n",
       "  <tbody>\n",
       "    <tr>\n",
       "      <th>0</th>\n",
       "      <td>0</td>\n",
       "      <td>0</td>\n",
       "      <td>Shadowy Super Coder #8854</td>\n",
       "      <td>{'merarity': {'tokenKey': 'C7QCcmTJNE5o67uM3XM...</td>\n",
       "      <td>{'merarity': {'tokenKey': 'C7QCcmTJNE5o67uM3XM...</td>\n",
       "      <td>6256.0</td>\n",
       "      <td>6271.0</td>\n",
       "      <td>0.625725</td>\n",
       "      <td>0.0</td>\n",
       "    </tr>\n",
       "    <tr>\n",
       "      <th>1</th>\n",
       "      <td>1</td>\n",
       "      <td>1</td>\n",
       "      <td>Shadowy Super Coder #8353</td>\n",
       "      <td>{'merarity': {'tokenKey': 'NJDoMZ8sZH9XeyeKvyb...</td>\n",
       "      <td>{'merarity': {'tokenKey': 'NJDoMZ8sZH9XeyeKvyb...</td>\n",
       "      <td>6690.0</td>\n",
       "      <td>6675.0</td>\n",
       "      <td>0.669134</td>\n",
       "      <td>0.0</td>\n",
       "    </tr>\n",
       "    <tr>\n",
       "      <th>2</th>\n",
       "      <td>2</td>\n",
       "      <td>2</td>\n",
       "      <td>Shadowy Super Coder #8124</td>\n",
       "      <td>{'merarity': {'tokenKey': 'CM8LUzDmvQ9FvgXFN3a...</td>\n",
       "      <td>{'merarity': {'tokenKey': 'CM8LUzDmvQ9FvgXFN3a...</td>\n",
       "      <td>8594.0</td>\n",
       "      <td>8589.0</td>\n",
       "      <td>0.859572</td>\n",
       "      <td>0.0</td>\n",
       "    </tr>\n",
       "    <tr>\n",
       "      <th>3</th>\n",
       "      <td>3</td>\n",
       "      <td>3</td>\n",
       "      <td>Shadowy Super Coder #2793</td>\n",
       "      <td>{'merarity': {'tokenKey': 'EXhiaHJoKvPHXV1u9wA...</td>\n",
       "      <td>{'merarity': {'tokenKey': 'EXhiaHJoKvPHXV1u9wA...</td>\n",
       "      <td>973.0</td>\n",
       "      <td>973.0</td>\n",
       "      <td>0.097319</td>\n",
       "      <td>0.0</td>\n",
       "    </tr>\n",
       "    <tr>\n",
       "      <th>4</th>\n",
       "      <td>4</td>\n",
       "      <td>4</td>\n",
       "      <td>Shadowy Super Coder #7298</td>\n",
       "      <td>{'merarity': {'tokenKey': 'BjFBT8sbemnGoRirAsv...</td>\n",
       "      <td>{'merarity': {'tokenKey': 'BjFBT8sbemnGoRirAsv...</td>\n",
       "      <td>3635.0</td>\n",
       "      <td>3630.0</td>\n",
       "      <td>0.363573</td>\n",
       "      <td>0.0</td>\n",
       "    </tr>\n",
       "  </tbody>\n",
       "</table>\n",
       "</div>"
      ],
      "text/plain": [
       "   Unnamed: 0.1  Unnamed: 0                onChainName  \\\n",
       "0             0           0  Shadowy Super Coder #8854   \n",
       "1             1           1  Shadowy Super Coder #8353   \n",
       "2             2           2  Shadowy Super Coder #8124   \n",
       "3             3           3  Shadowy Super Coder #2793   \n",
       "4             4           4  Shadowy Super Coder #7298   \n",
       "\n",
       "                                              rarity  \\\n",
       "0  {'merarity': {'tokenKey': 'C7QCcmTJNE5o67uM3XM...   \n",
       "1  {'merarity': {'tokenKey': 'NJDoMZ8sZH9XeyeKvyb...   \n",
       "2  {'merarity': {'tokenKey': 'CM8LUzDmvQ9FvgXFN3a...   \n",
       "3  {'merarity': {'tokenKey': 'EXhiaHJoKvPHXV1u9wA...   \n",
       "4  {'merarity': {'tokenKey': 'BjFBT8sbemnGoRirAsv...   \n",
       "\n",
       "                                                dict  rank_values_merarity  \\\n",
       "0  {'merarity': {'tokenKey': 'C7QCcmTJNE5o67uM3XM...                6256.0   \n",
       "1  {'merarity': {'tokenKey': 'NJDoMZ8sZH9XeyeKvyb...                6690.0   \n",
       "2  {'merarity': {'tokenKey': 'CM8LUzDmvQ9FvgXFN3a...                8594.0   \n",
       "3  {'merarity': {'tokenKey': 'EXhiaHJoKvPHXV1u9wA...                 973.0   \n",
       "4  {'merarity': {'tokenKey': 'BjFBT8sbemnGoRirAsv...                3635.0   \n",
       "\n",
       "   rank_values_moonrank     label  cls_label  \n",
       "0                6271.0  0.625725        0.0  \n",
       "1                6675.0  0.669134        0.0  \n",
       "2                8589.0  0.859572        0.0  \n",
       "3                 973.0  0.097319        0.0  \n",
       "4                3630.0  0.363573        0.0  "
      ]
     },
     "execution_count": 4,
     "metadata": {},
     "output_type": "execute_result"
    }
   ],
   "source": [
    "df.head()"
   ]
  },
  {
   "cell_type": "code",
   "execution_count": 1,
   "metadata": {},
   "outputs": [
    {
     "name": "stdout",
     "output_type": "stream",
     "text": [
      "Total number of images for old dataset: 36012\n"
     ]
    }
   ],
   "source": [
    "import os\n",
    "import glob\n",
    "\n",
    "def count_images_in_folder(folder_path):\n",
    "    total_images = 0\n",
    "    for root, dirs, files in os.walk(folder_path):\n",
    "        for file in files:\n",
    "            if file.lower().endswith(('.png')):\n",
    "                total_images += 1\n",
    "    return total_images\n",
    "\n",
    "old_dataset_dir = '/Users/beyzakaya/Desktop/bk/Akademik/Senior Design Project/rarity/nft_dataset_old/NFT_DATASET_MERGED/train'\n",
    "total_images = count_images_in_folder(old_dataset_dir)\n",
    "print(f\"Total number of images for old dataset: {total_images}\")"
   ]
  },
  {
   "cell_type": "code",
   "execution_count": 3,
   "metadata": {},
   "outputs": [],
   "source": [
    "import cv2\n",
    "\n",
    "example_img_dir = '/Users/beyzakaya/Desktop/bk/Akademik/Senior Design Project/rarity/nft_dataset_old/NFT_DATASET_MERGED/train/cets_on_creck/Cet #5.png'\n",
    "img = cv2.imread(example_img_dir)\n",
    "cv2.imshow('Image', img)\n",
    "cv2.waitKey(0)\n",
    "cv2.destroyAllWindows()"
   ]
  },
  {
   "cell_type": "code",
   "execution_count": 4,
   "metadata": {},
   "outputs": [],
   "source": [
    "import cv2\n",
    "\n",
    "example_img_dir_2 = '/Users/beyzakaya/Desktop/bk/Akademik/Senior Design Project/rarity/nft_dataset_old/NFT_DATASET_MERGED/train/blocksmith_labs/Smyth #4319.png'\n",
    "#/Users/beyzakaya/Desktop/bk/Akademik/Senior Design Project/rarity/nft_dataset_old/NFT_DATASET_MERGED/train/blocksmith_labs/Smyth #4319.png\n",
    "img = cv2.imread(example_img_dir_2)\n",
    "cv2.imshow('Image', img)\n",
    "cv2.waitKey(0)\n",
    "cv2.destroyAllWindows()"
   ]
  },
  {
   "cell_type": "code",
   "execution_count": 27,
   "metadata": {},
   "outputs": [],
   "source": [
    "image_filenames = []\n",
    "\n",
    "for root, dirs, files in os.walk(old_dataset_dir):\n",
    "    for file in files:\n",
    "        if file.lower().endswith(('.png')):\n",
    "            print(f\"File name: {file}\")\n",
    "            image_filenames.append(os.path.join(root, file))\n",
    "            print(f\"Image filenames: {image_filenames}\")"
   ]
  },
  {
   "cell_type": "code",
   "execution_count": 7,
   "metadata": {},
   "outputs": [],
   "source": [
    "image_filenames = [filename for filename in os.listdir(old_dataset_dir) if filename.endswith(('.png'))]\n",
    "\n",
    "for image_filename in image_filenames:\n",
    "    print(image_filenames)\n",
    "    if image_filename not in df['onChainName'].values:\n",
    "        print(f\"Image {image_filename} does not have a corresponding entry in the CSV file.\")"
   ]
  },
  {
   "cell_type": "code",
   "execution_count": 13,
   "metadata": {},
   "outputs": [
    {
     "name": "stdout",
     "output_type": "stream",
     "text": [
      "Labels csv file created: labels.csv\n"
     ]
    }
   ],
   "source": [
    "df_labels = df[['onChainName', 'cls_label']].copy()\n",
    "labels_csv_dir = 'labels.csv'\n",
    "df_labels.to_csv(labels_csv_dir, index=False)\n",
    "print(f\"Labels csv file created: {labels_csv_dir}\")"
   ]
  },
  {
   "cell_type": "code",
   "execution_count": 14,
   "metadata": {},
   "outputs": [
    {
     "data": {
      "text/plain": [
       "35952"
      ]
     },
     "execution_count": 14,
     "metadata": {},
     "output_type": "execute_result"
    }
   ],
   "source": [
    "len(df_labels)"
   ]
  },
  {
   "cell_type": "code",
   "execution_count": 17,
   "metadata": {},
   "outputs": [
    {
     "data": {
      "text/plain": [
       "Index(['onChainName', 'cls_label'], dtype='object')"
      ]
     },
     "execution_count": 17,
     "metadata": {},
     "output_type": "execute_result"
    }
   ],
   "source": []
  },
  {
   "cell_type": "code",
   "execution_count": 10,
   "metadata": {},
   "outputs": [
    {
     "name": "stderr",
     "output_type": "stream",
     "text": [
      "libpng warning: iCCP: known incorrect sRGB profile\n"
     ]
    },
    {
     "data": {
      "text/plain": [
       "array([[[124, 123, 123],\n",
       "        [122, 122, 122],\n",
       "        [121, 121, 122],\n",
       "        ...,\n",
       "        [  8,  13,  18],\n",
       "        [  7,  12,  17],\n",
       "        [  6,  11,  15]],\n",
       "\n",
       "       [[124, 124, 124],\n",
       "        [123, 123, 124],\n",
       "        [122, 122, 122],\n",
       "        ...,\n",
       "        [  6,  11,  15],\n",
       "        [  7,  11,  16],\n",
       "        [  8,  13,  18]],\n",
       "\n",
       "       [[124, 124, 124],\n",
       "        [123, 124, 124],\n",
       "        [123, 123, 123],\n",
       "        ...,\n",
       "        [  7,  12,  17],\n",
       "        [  7,  12,  17],\n",
       "        [  9,  16,  22]],\n",
       "\n",
       "       ...,\n",
       "\n",
       "       [[ 26,  27,  38],\n",
       "        [ 27,  26,  38],\n",
       "        [ 28,  26,  38],\n",
       "        ...,\n",
       "        [  1,   1,   2],\n",
       "        [  1,   1,   2],\n",
       "        [  1,   1,   2]],\n",
       "\n",
       "       [[ 26,  26,  37],\n",
       "        [ 27,  26,  36],\n",
       "        [ 27,  26,  37],\n",
       "        ...,\n",
       "        [  2,   3,   4],\n",
       "        [  1,   2,   3],\n",
       "        [  1,   2,   3]],\n",
       "\n",
       "       [[ 26,  26,  37],\n",
       "        [ 27,  26,  37],\n",
       "        [ 27,  26,  38],\n",
       "        ...,\n",
       "        [  2,   3,   4],\n",
       "        [  2,   4,   5],\n",
       "        [  3,   4,   6]]], dtype=uint8)"
      ]
     },
     "execution_count": 10,
     "metadata": {},
     "output_type": "execute_result"
    }
   ],
   "source": [
    "import cv2\n",
    "cv2.imread('/Users/beyzakaya/Desktop/bk/Akademik/Senior Design Project/rarity/nft_dataset_old/NFT_DATASET_MERGED/train/shadowy_super_coder_dao/Shadowy Super Coder #152.png')"
   ]
  },
  {
   "cell_type": "code",
   "execution_count": 2,
   "metadata": {},
   "outputs": [],
   "source": [
    "import os\n",
    "import pandas as pd\n",
    "import numpy as np\n",
    "import cv2\n",
    "from imgaug import augmenters as iaa\n",
    "from PIL import Image\n",
    "import warnings\n",
    "\n",
    "img = Image.open('/Users/beyzakaya/Desktop/bk/Akademik/Senior Design Project/rarity/nft_dataset_old/NFT_DATASET_MERGED/train/shadowy_super_coder_dao/Shadowy Super Coder #152.png')\n",
    "transform = iaa.Sequential([\n",
    "    iaa.Resize({\"height\": 512, \"width\": 512}),\n",
    "    iaa.Fliplr(0.5),              # horizontal flips\n",
    "    iaa.Crop(percent=(0, 0.1)),   # random crops\n",
    "    iaa.Sometimes(0.5, iaa.GaussianBlur(sigma=(0, 0.5))),  # apply Gaussian blur with 50% probability\n",
    "    iaa.Affine(rotate=(-45, 45)),  # random rotations\n",
    "    iaa.AddToHueAndSaturation(value=(-20, 20)),  # change hue and saturation\n",
    "    iaa.Multiply((0.5, 1.5), per_channel=0.5),  # random brightnessg\n",
    "])\n",
    "if img.mode == 'RGBA':\n",
    "    img = img.convert('RGB')\n",
    "transformed_img = transform(image=np.array(img))\n",
    "transformed_pil = Image.fromarray(transformed_img)\n",
    "transformed_pil.show()"
   ]
  },
  {
   "cell_type": "code",
   "execution_count": 3,
   "metadata": {},
   "outputs": [
    {
     "name": "stdout",
     "output_type": "stream",
     "text": [
      "Degods: 3000\n",
      "shadowy_super_coder_dao: 3020\n",
      "degenfatcats: 2940\n",
      "Okay Bears: 3020\n",
      "shin_sengoku: 3000\n",
      "famous_fox_federation: 3020\n",
      "degenerate_ape_academy: 3020\n",
      "cets_on_creck: 3020\n",
      "y00ts: 2900\n",
      "blocksmith_labs: 3060\n",
      "the_remnants_: 3020\n",
      "solana_monkey_business: 3040\n"
     ]
    }
   ],
   "source": [
    "import os \n",
    "\n",
    "dataset_dir = '/Users/beyzakaya/Desktop/bk/Akademik/Senior Design Project/rarity/nft_dataset_old/NFT_DATASET_AUGMENTED/train'\n",
    "\n",
    "for i in os.listdir(dataset_dir):\n",
    "    col_dir = os.path.join(dataset_dir,i)\n",
    "    print(f\"{i}: {len(os.listdir(col_dir))}\")\n"
   ]
  },
  {
   "cell_type": "code",
   "execution_count": 10,
   "metadata": {},
   "outputs": [
    {
     "name": "stdout",
     "output_type": "stream",
     "text": [
      "Degods: 3001\n",
      "shadowy_super_coder_dao: 3001\n",
      "degenfatcats: 3001\n",
      "Okay Bears: 3001\n",
      "shin_sengoku: 3001\n",
      "famous_fox_federation: 3001\n",
      "degenerate_ape_academy: 3001\n",
      "cets_on_creck: 3001\n",
      "y00ts: 3001\n",
      "blocksmith_labs: 3001\n",
      ".ipynb_checkpoints: 0\n",
      "the_remnants_: 3001\n",
      "solana_monkey_business: 3001\n"
     ]
    }
   ],
   "source": [
    "import os\n",
    "\n",
    "dataset_dir_not_augmented = '/Users/beyzakaya/Desktop/bk/Akademik/Senior Design Project/rarity/nft_dataset_old/NFT_DATASET_MERGED/train/'\n",
    "\n",
    "for i in os.listdir(dataset_dir_not_augmented):\n",
    "    if os.path.isdir(os.path.join(dataset_dir_not_augmented, i)):\n",
    "        col_dir = os.path.join(dataset_dir_not_augmented, i)\n",
    "        print(f\"{i}: {len(os.listdir(col_dir))}\")\n",
    "# 36060 augmented\n",
    "# 36012 normal train dataset "
   ]
  }
 ],
 "metadata": {
  "kernelspec": {
   "display_name": "Python 3",
   "language": "python",
   "name": "python3"
  },
  "language_info": {
   "codemirror_mode": {
    "name": "ipython",
    "version": 3
   },
   "file_extension": ".py",
   "mimetype": "text/x-python",
   "name": "python",
   "nbconvert_exporter": "python",
   "pygments_lexer": "ipython3",
   "version": "3.10.13"
  },
  "orig_nbformat": 4
 },
 "nbformat": 4,
 "nbformat_minor": 2
}
