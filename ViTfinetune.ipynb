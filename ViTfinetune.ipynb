{
  "cells": [
    {
      "cell_type": "markdown",
      "metadata": {
        "id": "view-in-github",
        "colab_type": "text"
      },
      "source": [
        "<a href=\"https://colab.research.google.com/github/imemmul/GenerativeNFT/blob/main/ViTfinetune.ipynb\" target=\"_parent\"><img src=\"https://colab.research.google.com/assets/colab-badge.svg\" alt=\"Open In Colab\"/></a>"
      ]
    },
    {
      "cell_type": "code",
      "execution_count": null,
      "metadata": {
        "id": "BM_W5iQhCH8I"
      },
      "outputs": [],
      "source": [
        "import torch\n",
        "import torch.nn as nn\n",
        "import torch.optim as optim\n",
        "from torchvision import datasets, transforms\n",
        "from transformers import ViTForImageClassification\n",
        "import pandas as pd"
      ]
    },
    {
      "cell_type": "code",
      "execution_count": null,
      "metadata": {
        "id": "K6mcnbjCChcg"
      },
      "outputs": [],
      "source": [
        "transform = transforms.Compose([\n",
        "    transforms.ToTensor(),\n",
        "    transforms.Resize((224, 224)),\n",
        "    transforms.Normalize(mean=[0.485, 0.456, 0.406], std=[0.229, 0.224, 0.225])\n",
        "])"
      ]
    },
    {
      "cell_type": "code",
      "execution_count": null,
      "metadata": {
        "colab": {
          "base_uri": "https://localhost:8080/"
        },
        "id": "aBFcpYE8Edd2",
        "outputId": "f85e0048-7a79-4a63-9e80-a94d4f509c7e"
      },
      "outputs": [
        {
          "output_type": "stream",
          "name": "stdout",
          "text": [
            "Mounted at /content/drive\n"
          ]
        }
      ],
      "source": [
        "from google.colab import drive\n",
        "drive.mount('/content/drive')"
      ]
    },
    {
      "cell_type": "code",
      "execution_count": null,
      "metadata": {
        "id": "N1ijst_E_kUb"
      },
      "outputs": [],
      "source": [
        "valid_list = [\"azuki\",\n",
        "\"sappy-seals\",\n",
        "\"killabears\",\n",
        "\"lazy-lions\",\n",
        "\"genuine-undead\",\n",
        "\"genesis-creepz\",\n",
        "\"bastard-gan-punks-v2\",\n",
        "\"pudgypenguins\",\n",
        "\"beanzofficial\",\n",
        "\"ninja-squad-official\",\n",
        "\"azragames-thehopeful\",\n",
        "\"thewarlords\",\n",
        "\"parallel-avatars\",\n",
        "\"pixelmongen1\",\n",
        "\"kanpai-pandas\"]"
      ]
    },
    {
      "cell_type": "code",
      "execution_count": null,
      "metadata": {
        "id": "6Rz3m3JG_kUb"
      },
      "outputs": [],
      "source": [
        "labels_dir = \"/content/drive/MyDrive/rarity_dataset/labels.csv\""
      ]
    },
    {
      "cell_type": "code",
      "execution_count": null,
      "metadata": {
        "id": "D0wEY4wB_kUb"
      },
      "outputs": [],
      "source": [
        "df = pd.read_csv(labels_dir)"
      ]
    },
    {
      "cell_type": "code",
      "execution_count": null,
      "metadata": {
        "colab": {
          "base_uri": "https://localhost:8080/"
        },
        "id": "ws2U9GcL_kUc",
        "outputId": "fef4c04e-f2b3-4351-eae4-f8f9bdf59524"
      },
      "outputs": [
        {
          "output_type": "execute_result",
          "data": {
            "text/plain": [
              "0        True\n",
              "1        True\n",
              "2        True\n",
              "3        True\n",
              "4        True\n",
              "         ... \n",
              "22414    True\n",
              "22415    True\n",
              "22416    True\n",
              "22417    True\n",
              "22418    True\n",
              "Name: label, Length: 22419, dtype: bool"
            ]
          },
          "metadata": {},
          "execution_count": 8
        }
      ],
      "source": [
        "df['label'].notna()"
      ]
    },
    {
      "cell_type": "code",
      "execution_count": null,
      "metadata": {
        "colab": {
          "base_uri": "https://localhost:8080/"
        },
        "id": "fNgg6hj3AUND",
        "outputId": "af5536e5-d13d-4849-af57-43d54a9a0834"
      },
      "outputs": [
        {
          "output_type": "execute_result",
          "data": {
            "text/plain": [
              "22419"
            ]
          },
          "metadata": {},
          "execution_count": 9
        }
      ],
      "source": [
        "len(df)"
      ]
    },
    {
      "cell_type": "code",
      "execution_count": null,
      "metadata": {
        "id": "FL1e-KSR_kUd"
      },
      "outputs": [],
      "source": [
        "def extract_rank(row):\n",
        "    return row['rank'] if row and 'rank' in row else None"
      ]
    },
    {
      "cell_type": "code",
      "execution_count": null,
      "metadata": {
        "id": "pE0y2zpr_kUd"
      },
      "outputs": [],
      "source": [
        "import ast"
      ]
    },
    {
      "cell_type": "code",
      "execution_count": null,
      "metadata": {
        "id": "5Fkecfki_kUe"
      },
      "outputs": [],
      "source": [
        "def convert_to_dict(string_repr):\n",
        "    try:\n",
        "        return ast.literal_eval(string_repr)\n",
        "    except (SyntaxError, ValueError):\n",
        "        return None"
      ]
    },
    {
      "cell_type": "code",
      "execution_count": null,
      "metadata": {
        "colab": {
          "base_uri": "https://localhost:8080/",
          "height": 35
        },
        "id": "mm186et0_kUe",
        "outputId": "4d5f5fc4-30e0-431c-91a5-ce2703ab947c"
      },
      "outputs": [
        {
          "output_type": "execute_result",
          "data": {
            "text/plain": [
              "\"{'strategy_id': None, 'strategy_version': None, 'rank': 2608, 'score': None, 'calculated_at': '', 'max_rank': None, 'tokens_scored': 0, 'ranking_features': None}\""
            ],
            "application/vnd.google.colaboratory.intrinsic+json": {
              "type": "string"
            }
          },
          "metadata": {},
          "execution_count": 13
        }
      ],
      "source": [
        "df['label'][1]"
      ]
    },
    {
      "cell_type": "code",
      "execution_count": null,
      "metadata": {
        "id": "2-hhYL0v_kUe"
      },
      "outputs": [],
      "source": [
        "df['dict_values'] = df['label'].apply(convert_to_dict)"
      ]
    },
    {
      "cell_type": "code",
      "execution_count": null,
      "metadata": {
        "id": "Jiy1m_-u_kUf"
      },
      "outputs": [],
      "source": [
        "df['rank_values'] = df['dict_values'].apply(extract_rank)"
      ]
    },
    {
      "cell_type": "code",
      "execution_count": null,
      "metadata": {
        "colab": {
          "base_uri": "https://localhost:8080/"
        },
        "id": "fy17mPzMAajg",
        "outputId": "ee91d4b2-5e37-4e14-8cb5-bd8b9408c7c6"
      },
      "outputs": [
        {
          "output_type": "execute_result",
          "data": {
            "text/plain": [
              "0    7008.0\n",
              "1    2608.0\n",
              "2    5465.0\n",
              "3    7386.0\n",
              "4    5917.0\n",
              "Name: rank_values, dtype: float64"
            ]
          },
          "metadata": {},
          "execution_count": 16
        }
      ],
      "source": [
        "df['rank_values'].head()"
      ]
    },
    {
      "cell_type": "code",
      "execution_count": null,
      "metadata": {
        "id": "ZAV3mIUn_kUf"
      },
      "outputs": [],
      "source": [
        "from torch.utils.data import Dataset\n",
        "import pandas as pd\n",
        "from PIL import Image\n",
        "import math\n",
        "import os\n",
        "import numpy as np\n",
        "\n",
        "class RarityDataset(Dataset):\n",
        "    def __init__(self, csv_dir, col_names, image_dir, transform):\n",
        "        self.labels = pd.read_csv(csv_dir)\n",
        "        self.col_names = col_names\n",
        "        self.transform = transform\n",
        "        self.labels['dict'] = df['label'].apply(convert_to_dict)\n",
        "        self.labels['rank_values'] = self.labels[\"dict\"].apply(extract_rank)\n",
        "        self.col_max_rarity = self.calculate_rarity()\n",
        "        self.drop_nan_ones()\n",
        "        self.image_dir = image_dir\n",
        "\n",
        "    def drop_nan_ones(self):\n",
        "        max_col_rarity = self.col_max_rarity.copy()\n",
        "        self.collection_drop = []\n",
        "        for key, val in max_col_rarity.items():\n",
        "            if math.isnan(val):\n",
        "                print(f\"{key}:{val}\")\n",
        "                self.col_max_rarity.pop(key)\n",
        "                self.collection_drop.append(key)\n",
        "        for key in self.collection_drop:\n",
        "            self.labels.drop(self.labels[self.labels['data_name'].str.startswith(key)].index, inplace=True)\n",
        "        self.labels.dropna(inplace=True)\n",
        "        self.labels.reset_index(inplace=True)\n",
        "\n",
        "    def __len__(self):\n",
        "        return len(self.labels)\n",
        "\n",
        "    def calculate_rarity(self):\n",
        "        max_col_rarities = {}\n",
        "        for col in self.col_names:\n",
        "            filtered_df = self.labels[self.labels[\"data_name\"].str.startswith(col)]\n",
        "            max_col_rarities[col] = filtered_df[\"rank_values\"].max()\n",
        "        return max_col_rarities\n",
        "\n",
        "    def __getitem__(self, index):\n",
        "        col_name = self.labels['data_name'][index].split(\"_\")[0] # bu olabilir\n",
        "        img_dir = os.path.join(self.image_dir, self.labels['data_name'][index])\n",
        "        img = np.array(Image.open(img_dir).convert('RGB'))\n",
        "        if transform:\n",
        "            img = transform(img)\n",
        "        return img, self.labels['rank_values'][index] / self.col_max_rarity[col_name]"
      ]
    },
    {
      "cell_type": "code",
      "execution_count": null,
      "metadata": {
        "colab": {
          "base_uri": "https://localhost:8080/"
        },
        "id": "8g1Pu430_kUf",
        "outputId": "a19c567d-2bd5-42a8-ee4d-7ee10275c7d0"
      },
      "outputs": [
        {
          "output_type": "stream",
          "name": "stdout",
          "text": [
            "sappy-seals:nan\n",
            "genesis-creepz:nan\n",
            "pixelmongen1:nan\n"
          ]
        }
      ],
      "source": [
        "rarity_dataset = RarityDataset(labels_dir, valid_list, \"/content/drive/MyDrive/rarity_dataset\", transform=transform)"
      ]
    },
    {
      "cell_type": "code",
      "execution_count": null,
      "metadata": {
        "colab": {
          "base_uri": "https://localhost:8080/"
        },
        "id": "uSaX-Hqx_kUf",
        "outputId": "fa4cbb6f-9015-4ee4-c1bb-b1d23701073d"
      },
      "outputs": [
        {
          "output_type": "execute_result",
          "data": {
            "text/plain": [
              "{'azuki': 10000.0,\n",
              " 'killabears': 3333.0,\n",
              " 'lazy-lions': 9997.0,\n",
              " 'genuine-undead': 9983.0,\n",
              " 'bastard-gan-punks-v2': 11303.0,\n",
              " 'pudgypenguins': 8886.0,\n",
              " 'beanzofficial': 19946.0,\n",
              " 'ninja-squad-official': 8881.0,\n",
              " 'azragames-thehopeful': 5541.0,\n",
              " 'thewarlords': 9999.0,\n",
              " 'parallel-avatars': 10998.0,\n",
              " 'kanpai-pandas': 6998.0}"
            ]
          },
          "metadata": {},
          "execution_count": 19
        }
      ],
      "source": [
        "rarity_dataset.col_max_rarity"
      ]
    },
    {
      "cell_type": "markdown",
      "metadata": {
        "id": "JQFFJoV9_kUg"
      },
      "source": [
        "+++++++\n"
      ]
    },
    {
      "cell_type": "code",
      "execution_count": null,
      "metadata": {
        "colab": {
          "base_uri": "https://localhost:8080/"
        },
        "id": "mwOTDWOCkWgu",
        "outputId": "310da83a-801a-4f41-efbe-89822d99d947"
      },
      "outputs": [
        {
          "output_type": "execute_result",
          "data": {
            "text/plain": [
              "17042"
            ]
          },
          "metadata": {},
          "execution_count": 20
        }
      ],
      "source": [
        "len(rarity_dataset.labels)"
      ]
    },
    {
      "cell_type": "code",
      "execution_count": null,
      "metadata": {
        "colab": {
          "base_uri": "https://localhost:8080/"
        },
        "id": "LaS1_z18_kUh",
        "outputId": "5fd0b114-e5c3-4a95-c4c2-d161977a6026"
      },
      "outputs": [
        {
          "output_type": "execute_result",
          "data": {
            "text/plain": [
              "0        ninja-squad-official_8870.png\n",
              "1        ninja-squad-official_8869.png\n",
              "2        ninja-squad-official_8868.png\n",
              "3        ninja-squad-official_8867.png\n",
              "4        ninja-squad-official_8866.png\n",
              "                     ...              \n",
              "17037              killabears_1789.png\n",
              "17038              killabears_1819.png\n",
              "17039              killabears_1848.png\n",
              "17040              killabears_1788.png\n",
              "17041              killabears_1818.png\n",
              "Name: data_name, Length: 17042, dtype: object"
            ]
          },
          "metadata": {},
          "execution_count": 21
        }
      ],
      "source": [
        "rarity_dataset.labels['data_name']"
      ]
    },
    {
      "cell_type": "code",
      "execution_count": null,
      "metadata": {
        "colab": {
          "base_uri": "https://localhost:8080/"
        },
        "id": "v1YzICUd_kUh",
        "outputId": "8e690161-cd65-4907-d66e-3184bd3c7b41"
      },
      "outputs": [
        {
          "output_type": "stream",
          "name": "stdout",
          "text": [
            "Training set size: 13633\n",
            "Testing set size: 3409\n"
          ]
        }
      ],
      "source": [
        "from torch.utils.data import random_split\n",
        "\n",
        "train_size = int(0.8 * len(rarity_dataset))\n",
        "test_size = len(rarity_dataset) - train_size\n",
        "\n",
        "train_dataset, test_dataset = random_split(rarity_dataset, [train_size, test_size])\n",
        "\n",
        "print(\"Training set size:\", len(train_dataset))\n",
        "print(\"Testing set size:\", len(test_dataset))"
      ]
    },
    {
      "cell_type": "code",
      "execution_count": null,
      "metadata": {
        "id": "QObC0lk2_kUi"
      },
      "outputs": [],
      "source": [
        "import torch"
      ]
    },
    {
      "cell_type": "code",
      "execution_count": null,
      "metadata": {
        "id": "ywXnYITpCkOF"
      },
      "outputs": [],
      "source": [
        "train_loader = torch.utils.data.DataLoader(train_dataset, batch_size=8, shuffle=True)\n",
        "test_loader = torch.utils.data.DataLoader(test_dataset, batch_size=8, shuffle=False)"
      ]
    },
    {
      "cell_type": "code",
      "execution_count": null,
      "metadata": {
        "colab": {
          "base_uri": "https://localhost:8080/",
          "height": 809,
          "referenced_widgets": [
            "59877955dfdf4ab1846f9c6d3ecfbf59",
            "6d2a760655c1495e9b33983917c6427d",
            "005f6c819bbf4a839a362963ee39d193",
            "ce3ce13124554890ae7b301514c36641",
            "5637e272ce92454f9732b0c30cc8398f",
            "094178846c9c4a05aba97a01cff69672",
            "b6e68cd856f2434da15534975c6536e7",
            "6f2c93b2cd224bc0aedf0ef74d8bb30f",
            "48e14a3088134e4a90b142bc794ea4a6",
            "1fb39cbe4a1e450bad5b7e5112ad8865",
            "112b536e5f344c678bd0903fbd4fbfc0",
            "a1611a7cdca54016ab6a07f76faea9a4",
            "df156b18aff249ebbe7b3c92a3258214",
            "2c2ce6fc51a24c278c778da53c603b85",
            "1c061ea137a6417da55f18ae8671656a",
            "2bc6f9c9d94d4fb79b63bd717468394a",
            "8a1323e2b57d4afca9d2f33abbb465b4",
            "86fecee400894cb4b4ec6585badeaeac",
            "22f365f6fcf649f3aac6923a46ac029e",
            "0c6a03bc8d61455eac328b0e5ea11a57",
            "c0953bd763b043b0b329b840a24e24ca",
            "08c822e487dc4f4bb5091384de499a61"
          ]
        },
        "id": "M3owiOFBfjo1",
        "outputId": "2333136b-2695-4459-d8c1-9f5af98228e0"
      },
      "outputs": [
        {
          "output_type": "display_data",
          "data": {
            "text/plain": [
              "config.json:   0%|          | 0.00/502 [00:00<?, ?B/s]"
            ],
            "application/vnd.jupyter.widget-view+json": {
              "version_major": 2,
              "version_minor": 0,
              "model_id": "59877955dfdf4ab1846f9c6d3ecfbf59"
            }
          },
          "metadata": {}
        },
        {
          "output_type": "display_data",
          "data": {
            "text/plain": [
              "model.safetensors:   0%|          | 0.00/346M [00:00<?, ?B/s]"
            ],
            "application/vnd.jupyter.widget-view+json": {
              "version_major": 2,
              "version_minor": 0,
              "model_id": "a1611a7cdca54016ab6a07f76faea9a4"
            }
          },
          "metadata": {}
        },
        {
          "output_type": "stream",
          "name": "stderr",
          "text": [
            "Some weights of ViTForImageClassification were not initialized from the model checkpoint at google/vit-base-patch16-224-in21k and are newly initialized: ['classifier.bias', 'classifier.weight']\n",
            "You should probably TRAIN this model on a down-stream task to be able to use it for predictions and inference.\n"
          ]
        },
        {
          "output_type": "execute_result",
          "data": {
            "text/plain": [
              "ViTForImageClassification(\n",
              "  (vit): ViTModel(\n",
              "    (embeddings): ViTEmbeddings(\n",
              "      (patch_embeddings): ViTPatchEmbeddings(\n",
              "        (projection): Conv2d(3, 768, kernel_size=(16, 16), stride=(16, 16))\n",
              "      )\n",
              "      (dropout): Dropout(p=0.0, inplace=False)\n",
              "    )\n",
              "    (encoder): ViTEncoder(\n",
              "      (layer): ModuleList(\n",
              "        (0-11): 12 x ViTLayer(\n",
              "          (attention): ViTAttention(\n",
              "            (attention): ViTSelfAttention(\n",
              "              (query): Linear(in_features=768, out_features=768, bias=True)\n",
              "              (key): Linear(in_features=768, out_features=768, bias=True)\n",
              "              (value): Linear(in_features=768, out_features=768, bias=True)\n",
              "              (dropout): Dropout(p=0.0, inplace=False)\n",
              "            )\n",
              "            (output): ViTSelfOutput(\n",
              "              (dense): Linear(in_features=768, out_features=768, bias=True)\n",
              "              (dropout): Dropout(p=0.0, inplace=False)\n",
              "            )\n",
              "          )\n",
              "          (intermediate): ViTIntermediate(\n",
              "            (dense): Linear(in_features=768, out_features=3072, bias=True)\n",
              "            (intermediate_act_fn): GELUActivation()\n",
              "          )\n",
              "          (output): ViTOutput(\n",
              "            (dense): Linear(in_features=3072, out_features=768, bias=True)\n",
              "            (dropout): Dropout(p=0.0, inplace=False)\n",
              "          )\n",
              "          (layernorm_before): LayerNorm((768,), eps=1e-12, elementwise_affine=True)\n",
              "          (layernorm_after): LayerNorm((768,), eps=1e-12, elementwise_affine=True)\n",
              "        )\n",
              "      )\n",
              "    )\n",
              "    (layernorm): LayerNorm((768,), eps=1e-12, elementwise_affine=True)\n",
              "  )\n",
              "  (classifier): Linear(in_features=768, out_features=1, bias=True)\n",
              ")"
            ]
          },
          "metadata": {},
          "execution_count": 25
        }
      ],
      "source": [
        "model = ViTForImageClassification.from_pretrained('google/vit-base-patch16-224-in21k')\n",
        "model.classifier = nn.Linear(model.config.hidden_size, 1)\n",
        "optimizer = optim.SGD(model.parameters(), lr=1e-3)\n",
        "criterion = nn.MSELoss()\n",
        "device = torch.device(\"cuda\" if torch.cuda.is_available() else \"cpu\")\n",
        "model.to(device)"
      ]
    },
    {
      "cell_type": "code",
      "execution_count": null,
      "metadata": {
        "colab": {
          "base_uri": "https://localhost:8080/"
        },
        "id": "6wkoK1BHkrCK",
        "outputId": "3e52bde3-4a72-4635-cb7d-b48e12ae3cf1"
      },
      "outputs": [
        {
          "output_type": "execute_result",
          "data": {
            "text/plain": [
              "3416"
            ]
          },
          "metadata": {},
          "execution_count": 26
        }
      ],
      "source": [
        "len(test_loader) * 8"
      ]
    },
    {
      "cell_type": "code",
      "execution_count": null,
      "metadata": {
        "id": "hp-r93yXkox3"
      },
      "outputs": [],
      "source": [
        "def val(model, test_loader, device):\n",
        "  model.eval()\n",
        "  avg_loss = 0\n",
        "  with torch.no_grad():\n",
        "    for img, label in test_loader:\n",
        "      img, label = img.to(device), label.to(device)\n",
        "      outputs = model(img)\n",
        "      loss = criterion(outputs.logits.to(torch.float64).squeeze(), label)\n",
        "      avg_loss += loss.item()\n",
        "      print(f\"validating: loss{loss.item()}\")\n",
        "  return avg_loss / len(test_loader)\n",
        "\n"
      ]
    },
    {
      "cell_type": "code",
      "source": [
        "num_epochs = 20\n",
        "for epoch in range(num_epochs):\n",
        "    model.train()\n",
        "    train_loss = 0\n",
        "    for i, batch in enumerate(train_loader):\n",
        "        images, labels = batch\n",
        "        images, labels = images.to(device), labels.to(device)\n",
        "        optimizer.zero_grad()\n",
        "        outputs = model(images)\n",
        "        # print(outputs)\n",
        "        # print(labels)\n",
        "        loss = criterion(outputs.logits.to(torch.float64).squeeze(), labels)\n",
        "        loss.backward()\n",
        "        optimizer.step()\n",
        "        print(f\"iteration {i}, loss: {loss.item()}\")\n",
        "        train_loss += loss.item()\n",
        "    val_loss = val(model, test_loader, device)\n",
        "    print(f\"Epoch [{epoch+1}/{num_epochs}], Train Loss: {train_loss / len(train_loader)} val_loss: {val_loss}\")"
      ],
      "metadata": {
        "colab": {
          "base_uri": "https://localhost:8080/"
        },
        "id": "jExRUyt4ZZto",
        "outputId": "2fffb105-9e80-4b1e-85ce-a88f2f6f56e0"
      },
      "execution_count": null,
      "outputs": [
        {
          "output_type": "stream",
          "name": "stderr",
          "text": [
            "/usr/local/lib/python3.10/dist-packages/torchvision/transforms/functional.py:1603: UserWarning: The default value of the antialias parameter of all the resizing transforms (Resize(), RandomResizedCrop(), etc.) will change from None to True in v0.17, in order to be consistent across the PIL and Tensor backends. To suppress this warning, directly pass antialias=True (recommended, future default), antialias=None (current default, which means False for Tensors and True for PIL), or antialias=False (only works on Tensors - PIL will still use antialiasing). This also applies if you are using the inference transforms from the models weights: update the call to weights.transforms(antialias=True).\n",
            "  warnings.warn(\n"
          ]
        },
        {
          "output_type": "stream",
          "name": "stdout",
          "text": [
            "iteration 0, loss: 0.22152560223149048\n",
            "iteration 1, loss: 0.4144515388211822\n",
            "iteration 2, loss: 0.1497582207398216\n",
            "iteration 3, loss: 0.08469826273630164\n",
            "iteration 4, loss: 0.26041337938183223\n",
            "iteration 5, loss: 0.15492285844843873\n",
            "iteration 6, loss: 0.12130514794689982\n",
            "iteration 7, loss: 0.2109514387080232\n",
            "iteration 8, loss: 0.13508121544345533\n",
            "iteration 9, loss: 0.18231523288584103\n",
            "iteration 10, loss: 0.1500906758904546\n",
            "iteration 11, loss: 0.10021295149910683\n",
            "iteration 12, loss: 0.1691015983854367\n",
            "iteration 13, loss: 0.16884040713145487\n",
            "iteration 14, loss: 0.12651442271534136\n",
            "iteration 15, loss: 0.18524898193387695\n",
            "iteration 16, loss: 0.05963478252271162\n",
            "iteration 17, loss: 0.19907521610785392\n",
            "iteration 18, loss: 0.12975687506366956\n",
            "iteration 19, loss: 0.06079509183079543\n",
            "iteration 20, loss: 0.13711216920815256\n",
            "iteration 21, loss: 0.0589182424627608\n",
            "iteration 22, loss: 0.12520277528077958\n",
            "iteration 23, loss: 0.18538394385403095\n",
            "iteration 24, loss: 0.13884344929982825\n",
            "iteration 25, loss: 0.08216600274178669\n",
            "iteration 26, loss: 0.09529135740148674\n",
            "iteration 27, loss: 0.176510762314209\n",
            "iteration 28, loss: 0.10118222911332561\n",
            "iteration 29, loss: 0.10727733824205937\n",
            "iteration 30, loss: 0.11259834069587314\n",
            "iteration 31, loss: 0.1479952373659624\n",
            "iteration 32, loss: 0.08310222678535129\n",
            "iteration 33, loss: 0.06831805873154145\n",
            "iteration 34, loss: 0.06557104366169264\n",
            "iteration 35, loss: 0.046235135305254124\n",
            "iteration 36, loss: 0.05854058698040387\n",
            "iteration 37, loss: 0.19471866599090598\n",
            "iteration 38, loss: 0.0708029526129039\n",
            "iteration 39, loss: 0.09508473607741941\n",
            "iteration 40, loss: 0.16270201352896324\n",
            "iteration 41, loss: 0.2518643391776154\n",
            "iteration 42, loss: 0.10661459613621645\n",
            "iteration 43, loss: 0.1060997516861373\n",
            "iteration 44, loss: 0.10274172862876169\n",
            "iteration 45, loss: 0.10145914663030253\n",
            "iteration 46, loss: 0.14446044112118273\n",
            "iteration 47, loss: 0.05663505618391608\n",
            "iteration 48, loss: 0.09741183850980739\n",
            "iteration 49, loss: 0.04749573574645897\n",
            "iteration 50, loss: 0.11148504601856252\n",
            "iteration 51, loss: 0.13626959572410013\n",
            "iteration 52, loss: 0.076994081823753\n",
            "iteration 53, loss: 0.11545994901627452\n",
            "iteration 54, loss: 0.0700180185885952\n",
            "iteration 55, loss: 0.06202257621897949\n",
            "iteration 56, loss: 0.06210128504447891\n",
            "iteration 57, loss: 0.12701367181832623\n",
            "iteration 58, loss: 0.04385703936504806\n",
            "iteration 59, loss: 0.0839848438304603\n",
            "iteration 60, loss: 0.12133793733293206\n",
            "iteration 61, loss: 0.14226962760008724\n",
            "iteration 62, loss: 0.10321849614967306\n",
            "iteration 63, loss: 0.03033540807364497\n",
            "iteration 64, loss: 0.08864086283754483\n",
            "iteration 65, loss: 0.05296254916071111\n",
            "iteration 66, loss: 0.06783185754942571\n",
            "iteration 67, loss: 0.07922826813466631\n",
            "iteration 68, loss: 0.11460846236443785\n",
            "iteration 69, loss: 0.1069154942502905\n",
            "iteration 70, loss: 0.07431266927916426\n",
            "iteration 71, loss: 0.1158859236823952\n",
            "iteration 72, loss: 0.1322189941852183\n",
            "iteration 73, loss: 0.15009106418316792\n",
            "iteration 74, loss: 0.1198745327633142\n",
            "iteration 75, loss: 0.06168199880345423\n",
            "iteration 76, loss: 0.1014289747207302\n",
            "iteration 77, loss: 0.15209084366769177\n",
            "iteration 78, loss: 0.1128385882300793\n",
            "iteration 79, loss: 0.08401475976698253\n",
            "iteration 80, loss: 0.05293608268853465\n",
            "iteration 81, loss: 0.0850985673343275\n",
            "iteration 82, loss: 0.08807976776921658\n",
            "iteration 83, loss: 0.08692161366414225\n",
            "iteration 84, loss: 0.11923115667621895\n",
            "iteration 85, loss: 0.0957794197058135\n",
            "iteration 86, loss: 0.08263769471848201\n",
            "iteration 87, loss: 0.060924147160945664\n",
            "iteration 88, loss: 0.09898990565291682\n",
            "iteration 89, loss: 0.06124325395126111\n",
            "iteration 90, loss: 0.03574786514658701\n",
            "iteration 91, loss: 0.06394584931770611\n",
            "iteration 92, loss: 0.07602341606048538\n",
            "iteration 93, loss: 0.07166844174319442\n",
            "iteration 94, loss: 0.029018463422972547\n",
            "iteration 95, loss: 0.06339984042279617\n",
            "iteration 96, loss: 0.17162209750589974\n",
            "iteration 97, loss: 0.10381122642078083\n",
            "iteration 98, loss: 0.06318465093494047\n",
            "iteration 99, loss: 0.06448177910870315\n",
            "iteration 100, loss: 0.12613911618766754\n",
            "iteration 101, loss: 0.044208140334006066\n",
            "iteration 102, loss: 0.15625903456373824\n",
            "iteration 103, loss: 0.09815636319474981\n",
            "iteration 104, loss: 0.06762276777841948\n",
            "iteration 105, loss: 0.136812766877149\n",
            "iteration 106, loss: 0.12565023587708368\n",
            "iteration 107, loss: 0.07403749032314666\n",
            "iteration 108, loss: 0.04233011986889926\n",
            "iteration 109, loss: 0.06686195422145728\n",
            "iteration 110, loss: 0.07836620233192453\n",
            "iteration 111, loss: 0.034901003010216834\n",
            "iteration 112, loss: 0.11856493317176983\n",
            "iteration 113, loss: 0.13594055936177463\n",
            "iteration 114, loss: 0.13636304031868696\n",
            "iteration 115, loss: 0.09123955913370442\n",
            "iteration 116, loss: 0.160092400504792\n",
            "iteration 117, loss: 0.11109073560003264\n",
            "iteration 118, loss: 0.06682298666524464\n",
            "iteration 119, loss: 0.0967135202879025\n",
            "iteration 120, loss: 0.17082559084808366\n",
            "iteration 121, loss: 0.09330664283089576\n",
            "iteration 122, loss: 0.12841133736253157\n",
            "iteration 123, loss: 0.09275382792692713\n",
            "iteration 124, loss: 0.13669628092237351\n",
            "iteration 125, loss: 0.03806700201295838\n",
            "iteration 126, loss: 0.12576021903489945\n",
            "iteration 127, loss: 0.06958932975010561\n",
            "iteration 128, loss: 0.044399107639220114\n",
            "iteration 129, loss: 0.15536722212025636\n",
            "iteration 130, loss: 0.1580156310507257\n",
            "iteration 131, loss: 0.14622831131203898\n",
            "iteration 132, loss: 0.13575807309346366\n"
          ]
        },
        {
          "output_type": "stream",
          "name": "stderr",
          "text": [
            "/usr/local/lib/python3.10/dist-packages/PIL/Image.py:3167: DecompressionBombWarning: Image size (100000000 pixels) exceeds limit of 89478485 pixels, could be decompression bomb DOS attack.\n",
            "  warnings.warn(\n"
          ]
        },
        {
          "output_type": "stream",
          "name": "stdout",
          "text": [
            "iteration 133, loss: 0.12507389206764946\n",
            "iteration 134, loss: 0.11459541894887507\n",
            "iteration 135, loss: 0.05866995282235481\n",
            "iteration 136, loss: 0.03779255348125987\n",
            "iteration 137, loss: 0.12510138309428104\n",
            "iteration 138, loss: 0.08861520512536132\n",
            "iteration 139, loss: 0.13862595293647934\n",
            "iteration 140, loss: 0.07997693001361031\n",
            "iteration 141, loss: 0.05134594911114313\n",
            "iteration 142, loss: 0.11530980524662289\n",
            "iteration 143, loss: 0.08410675044449238\n",
            "iteration 144, loss: 0.09071420003169073\n",
            "iteration 145, loss: 0.08960318686389704\n",
            "iteration 146, loss: 0.11186679056679598\n",
            "iteration 147, loss: 0.10630389282753766\n",
            "iteration 148, loss: 0.10362307527509626\n",
            "iteration 149, loss: 0.08297255973995282\n",
            "iteration 150, loss: 0.056700894141914246\n",
            "iteration 151, loss: 0.1329465525713114\n",
            "iteration 152, loss: 0.10268157477884879\n",
            "iteration 153, loss: 0.16818326790011645\n",
            "iteration 154, loss: 0.07022642323449335\n",
            "iteration 155, loss: 0.08644000107417864\n",
            "iteration 156, loss: 0.09267006798364857\n",
            "iteration 157, loss: 0.13022479135942616\n",
            "iteration 158, loss: 0.11090748260255232\n",
            "iteration 159, loss: 0.0968190619309171\n",
            "iteration 160, loss: 0.11501191010568629\n",
            "iteration 161, loss: 0.031233400411848147\n",
            "iteration 162, loss: 0.10418947639499859\n",
            "iteration 163, loss: 0.1023772694416107\n",
            "iteration 164, loss: 0.07456927257193685\n",
            "iteration 165, loss: 0.06951497432524893\n",
            "iteration 166, loss: 0.07062323343350943\n",
            "iteration 167, loss: 0.07312675902618784\n",
            "iteration 168, loss: 0.06874520711794292\n",
            "iteration 169, loss: 0.12913035364012335\n",
            "iteration 170, loss: 0.09752860409510461\n",
            "iteration 171, loss: 0.15169392214524857\n",
            "iteration 172, loss: 0.08571647038040833\n",
            "iteration 173, loss: 0.15808186522914508\n",
            "iteration 174, loss: 0.03488716333151218\n",
            "iteration 175, loss: 0.1043635445888039\n",
            "iteration 176, loss: 0.08502102839270428\n",
            "iteration 177, loss: 0.029340118171613618\n",
            "iteration 178, loss: 0.0686979630562374\n",
            "iteration 179, loss: 0.13826672657391745\n",
            "iteration 180, loss: 0.11807553099705387\n",
            "iteration 181, loss: 0.1250237268431885\n",
            "iteration 182, loss: 0.0697776002818965\n",
            "iteration 183, loss: 0.08539170465920295\n",
            "iteration 184, loss: 0.08905439215499142\n",
            "iteration 185, loss: 0.04738621892029\n",
            "iteration 186, loss: 0.08935135503492626\n",
            "iteration 187, loss: 0.0784537367349554\n",
            "iteration 188, loss: 0.050697195627994046\n",
            "iteration 189, loss: 0.05662076577301825\n",
            "iteration 190, loss: 0.09724309739951156\n",
            "iteration 191, loss: 0.10124301572958816\n",
            "iteration 192, loss: 0.07362219392213132\n",
            "iteration 193, loss: 0.05286277251608751\n",
            "iteration 194, loss: 0.11927952573446912\n",
            "iteration 195, loss: 0.10138357893119096\n",
            "iteration 196, loss: 0.06415082894982818\n",
            "iteration 197, loss: 0.042792993590393874\n",
            "iteration 198, loss: 0.062497696996422866\n",
            "iteration 199, loss: 0.08134229248786906\n",
            "iteration 200, loss: 0.1094482942205704\n",
            "iteration 201, loss: 0.05077082431751352\n",
            "iteration 202, loss: 0.10497866482976387\n",
            "iteration 203, loss: 0.11495655808873018\n",
            "iteration 204, loss: 0.08228762712072371\n",
            "iteration 205, loss: 0.0762487124802397\n",
            "iteration 206, loss: 0.0948834245710384\n",
            "iteration 207, loss: 0.06443144140296174\n",
            "iteration 208, loss: 0.1516832888879503\n",
            "iteration 209, loss: 0.11356435623759467\n",
            "iteration 210, loss: 0.10438269377058196\n",
            "iteration 211, loss: 0.05223983312601989\n",
            "iteration 212, loss: 0.06424975135736989\n",
            "iteration 213, loss: 0.08829294166282141\n",
            "iteration 214, loss: 0.10178471204647285\n",
            "iteration 215, loss: 0.11273593961245615\n",
            "iteration 216, loss: 0.087233814328757\n",
            "iteration 217, loss: 0.09310421810505978\n",
            "iteration 218, loss: 0.06605483663771512\n",
            "iteration 219, loss: 0.10095554903758319\n",
            "iteration 220, loss: 0.06574417940883849\n",
            "iteration 221, loss: 0.1949836144969623\n",
            "iteration 222, loss: 0.04548462042948062\n",
            "iteration 223, loss: 0.08709008734141867\n",
            "iteration 224, loss: 0.0844867460965964\n",
            "iteration 225, loss: 0.12909410473919633\n",
            "iteration 226, loss: 0.038866370458104496\n",
            "iteration 227, loss: 0.06653260383741721\n",
            "iteration 228, loss: 0.044333601763310755\n",
            "iteration 229, loss: 0.050997936361892614\n",
            "iteration 230, loss: 0.10088657874747245\n",
            "iteration 231, loss: 0.14277194794625137\n",
            "iteration 232, loss: 0.0655375154651621\n",
            "iteration 233, loss: 0.04433974499703568\n",
            "iteration 234, loss: 0.0898485243101764\n",
            "iteration 235, loss: 0.08297569439004782\n",
            "iteration 236, loss: 0.07429214040489156\n",
            "iteration 237, loss: 0.09385864156845093\n",
            "iteration 238, loss: 0.06199460476497098\n",
            "iteration 239, loss: 0.10812775882893483\n",
            "iteration 240, loss: 0.15267507439093342\n",
            "iteration 241, loss: 0.10117360536443115\n",
            "iteration 242, loss: 0.09648898297583691\n",
            "iteration 243, loss: 0.09696053844696605\n",
            "iteration 244, loss: 0.03700184530779374\n",
            "iteration 245, loss: 0.07996942448485206\n",
            "iteration 246, loss: 0.08887019539881065\n",
            "iteration 247, loss: 0.1648358871545522\n",
            "iteration 248, loss: 0.0896631666364601\n",
            "iteration 249, loss: 0.1055025348956671\n",
            "iteration 250, loss: 0.07921749196003999\n",
            "iteration 251, loss: 0.03846768907340338\n",
            "iteration 252, loss: 0.04217414701051684\n",
            "iteration 253, loss: 0.1981490428034288\n",
            "iteration 254, loss: 0.13224876096081611\n",
            "iteration 255, loss: 0.04692246219418088\n",
            "iteration 256, loss: 0.10764588927959931\n",
            "iteration 257, loss: 0.08384069306107167\n",
            "iteration 258, loss: 0.08936892818444045\n",
            "iteration 259, loss: 0.08338902350622175\n",
            "iteration 260, loss: 0.1161882904520788\n",
            "iteration 261, loss: 0.09125112375518935\n",
            "iteration 262, loss: 0.06491516436240119\n",
            "iteration 263, loss: 0.13779867775196297\n",
            "iteration 264, loss: 0.15268794858425874\n",
            "iteration 265, loss: 0.07611666395504946\n",
            "iteration 266, loss: 0.13352265817851072\n",
            "iteration 267, loss: 0.03457893210099799\n",
            "iteration 268, loss: 0.0929624436647443\n",
            "iteration 269, loss: 0.09921192920989884\n",
            "iteration 270, loss: 0.12060316816513429\n",
            "iteration 271, loss: 0.06725185758116696\n",
            "iteration 272, loss: 0.1032141454746709\n",
            "iteration 273, loss: 0.05044536503356073\n",
            "iteration 274, loss: 0.08314490129576323\n",
            "iteration 275, loss: 0.023422008402758772\n",
            "iteration 276, loss: 0.09978156950494496\n",
            "iteration 277, loss: 0.09119982871467705\n",
            "iteration 278, loss: 0.10612340899412889\n",
            "iteration 279, loss: 0.0958701786171598\n",
            "iteration 280, loss: 0.10922994722159199\n",
            "iteration 281, loss: 0.090255386467496\n",
            "iteration 282, loss: 0.08721145620596302\n",
            "iteration 283, loss: 0.09838536917320254\n",
            "iteration 284, loss: 0.07355009360556539\n",
            "iteration 285, loss: 0.1019445809854693\n",
            "iteration 286, loss: 0.11608798513014236\n",
            "iteration 287, loss: 0.07461480079017997\n",
            "iteration 288, loss: 0.09864250472904326\n",
            "iteration 289, loss: 0.10942454987856091\n",
            "iteration 290, loss: 0.09317839000465664\n",
            "iteration 291, loss: 0.18459907808063106\n",
            "iteration 292, loss: 0.11037720930671899\n",
            "iteration 293, loss: 0.12973103201456426\n",
            "iteration 294, loss: 0.11067873175826919\n",
            "iteration 295, loss: 0.09196855844157535\n",
            "iteration 296, loss: 0.06572014404153272\n",
            "iteration 297, loss: 0.1397384135509915\n",
            "iteration 298, loss: 0.06318483508735306\n",
            "iteration 299, loss: 0.15438690629011975\n",
            "iteration 300, loss: 0.11605755951047256\n",
            "iteration 301, loss: 0.13140585150497922\n",
            "iteration 302, loss: 0.05419571357920908\n",
            "iteration 303, loss: 0.08002845451506582\n",
            "iteration 304, loss: 0.11433158072876196\n",
            "iteration 305, loss: 0.08188475495323269\n",
            "iteration 306, loss: 0.07781718681849906\n",
            "iteration 307, loss: 0.05355537508603462\n",
            "iteration 308, loss: 0.06164309530546743\n",
            "iteration 309, loss: 0.04125803164657989\n",
            "iteration 310, loss: 0.09882829294875572\n",
            "iteration 311, loss: 0.08367792795384134\n",
            "iteration 312, loss: 0.06755793637783808\n",
            "iteration 313, loss: 0.07943059308597188\n",
            "iteration 314, loss: 0.06748773835936434\n",
            "iteration 315, loss: 0.04283702950102976\n",
            "iteration 316, loss: 0.1336591979660427\n",
            "iteration 317, loss: 0.04638632974623351\n",
            "iteration 318, loss: 0.10146531857891258\n",
            "iteration 319, loss: 0.09909678373850998\n",
            "iteration 320, loss: 0.0968276895719479\n",
            "iteration 321, loss: 0.07607205508527606\n",
            "iteration 322, loss: 0.1059952319606487\n",
            "iteration 323, loss: 0.11738049634233022\n",
            "iteration 324, loss: 0.0744946569320209\n",
            "iteration 325, loss: 0.09342147970179399\n",
            "iteration 326, loss: 0.10540769248878949\n",
            "iteration 327, loss: 0.09598234837721845\n",
            "iteration 328, loss: 0.032153911244414746\n",
            "iteration 329, loss: 0.048271996398931954\n",
            "iteration 330, loss: 0.07701580149173766\n",
            "iteration 331, loss: 0.10323401129706697\n",
            "iteration 332, loss: 0.050612629898897914\n",
            "iteration 333, loss: 0.09942645919295337\n",
            "iteration 334, loss: 0.07965812067306115\n",
            "iteration 335, loss: 0.07534902412165849\n",
            "iteration 336, loss: 0.1351247440310321\n",
            "iteration 337, loss: 0.09434119623472731\n",
            "iteration 338, loss: 0.04580133922410301\n",
            "iteration 339, loss: 0.10470178059848678\n",
            "iteration 340, loss: 0.039112630947997606\n",
            "iteration 341, loss: 0.09415618806487727\n",
            "iteration 342, loss: 0.04884757008487101\n",
            "iteration 343, loss: 0.07184869695061202\n",
            "iteration 344, loss: 0.06551618657562769\n",
            "iteration 345, loss: 0.0988982223858392\n",
            "iteration 346, loss: 0.06873485329314251\n",
            "iteration 347, loss: 0.12590701565117327\n",
            "iteration 348, loss: 0.07638259357216985\n",
            "iteration 349, loss: 0.08274319937845695\n",
            "iteration 350, loss: 0.10376197788427928\n",
            "iteration 351, loss: 0.07761516070894213\n",
            "iteration 352, loss: 0.11980873534899096\n",
            "iteration 353, loss: 0.07266967844258548\n",
            "iteration 354, loss: 0.08159855591053085\n",
            "iteration 355, loss: 0.052147026448964406\n",
            "iteration 356, loss: 0.06388011041788352\n",
            "iteration 357, loss: 0.06713033311958796\n",
            "iteration 358, loss: 0.1649688241376635\n",
            "iteration 359, loss: 0.10223763963925114\n",
            "iteration 360, loss: 0.07265761513190823\n",
            "iteration 361, loss: 0.04947402393832598\n",
            "iteration 362, loss: 0.10685649994767624\n",
            "iteration 363, loss: 0.0670147730576034\n",
            "iteration 364, loss: 0.06158469562802954\n",
            "iteration 365, loss: 0.14791884071896397\n",
            "iteration 366, loss: 0.1089692481042737\n",
            "iteration 367, loss: 0.12083544273471794\n",
            "iteration 368, loss: 0.08321482734334061\n",
            "iteration 369, loss: 0.06642688397403354\n",
            "iteration 370, loss: 0.07810879967642265\n",
            "iteration 371, loss: 0.09666716291017641\n",
            "iteration 372, loss: 0.10634102938330237\n",
            "iteration 373, loss: 0.03613445581165836\n",
            "iteration 374, loss: 0.10398839696569183\n",
            "iteration 375, loss: 0.039603581391773224\n",
            "iteration 376, loss: 0.08382934669161131\n",
            "iteration 377, loss: 0.06918486729284269\n",
            "iteration 378, loss: 0.08867234506356517\n",
            "iteration 379, loss: 0.059910118662351144\n",
            "iteration 380, loss: 0.12231646835023172\n",
            "iteration 381, loss: 0.06504486479144592\n",
            "iteration 382, loss: 0.11597404505974451\n",
            "iteration 383, loss: 0.11578377602963986\n",
            "iteration 384, loss: 0.09637912930099568\n",
            "iteration 385, loss: 0.10361676750187564\n",
            "iteration 386, loss: 0.08109258099610576\n",
            "iteration 387, loss: 0.12655945462116241\n",
            "iteration 388, loss: 0.09821733045468604\n",
            "iteration 389, loss: 0.05283413748139839\n",
            "iteration 390, loss: 0.09405303920463126\n",
            "iteration 391, loss: 0.028479622090898903\n",
            "iteration 392, loss: 0.024220175546654038\n",
            "iteration 393, loss: 0.10889973433544774\n",
            "iteration 394, loss: 0.07447660931111824\n",
            "iteration 395, loss: 0.05448667691164366\n",
            "iteration 396, loss: 0.1307125127796914\n",
            "iteration 397, loss: 0.04482518717734375\n",
            "iteration 398, loss: 0.06385632532931058\n",
            "iteration 399, loss: 0.09837351428279369\n",
            "iteration 400, loss: 0.10187132816567648\n",
            "iteration 401, loss: 0.034693675837440666\n",
            "iteration 402, loss: 0.07348317816696842\n",
            "iteration 403, loss: 0.04262958915957879\n",
            "iteration 404, loss: 0.09148525313957544\n",
            "iteration 405, loss: 0.1171481734178772\n",
            "iteration 406, loss: 0.1437095620241352\n",
            "iteration 407, loss: 0.08583408295433115\n",
            "iteration 408, loss: 0.0497074293593635\n",
            "iteration 409, loss: 0.12111691971357114\n",
            "iteration 410, loss: 0.0823609206053026\n",
            "iteration 411, loss: 0.0722681566157326\n",
            "iteration 412, loss: 0.05401301600212605\n",
            "iteration 413, loss: 0.14375409715309478\n",
            "iteration 414, loss: 0.05524525111811704\n",
            "iteration 415, loss: 0.08053938571776098\n",
            "iteration 416, loss: 0.06872654471480123\n",
            "iteration 417, loss: 0.12475977835320945\n",
            "iteration 418, loss: 0.05951189494171415\n",
            "iteration 419, loss: 0.08895125548513823\n",
            "iteration 420, loss: 0.09162919530735175\n",
            "iteration 421, loss: 0.06821730947996643\n",
            "iteration 422, loss: 0.09044633825803348\n",
            "iteration 423, loss: 0.10432283564637868\n",
            "iteration 424, loss: 0.10592084699281062\n",
            "iteration 425, loss: 0.03215878566901949\n",
            "iteration 426, loss: 0.09352723815404293\n",
            "iteration 427, loss: 0.11998384535178025\n",
            "iteration 428, loss: 0.1060961090683481\n",
            "iteration 429, loss: 0.05593949980288349\n",
            "iteration 430, loss: 0.048510345823755324\n",
            "iteration 431, loss: 0.061921442221272556\n",
            "iteration 432, loss: 0.08399542948739441\n",
            "iteration 433, loss: 0.03589756676975451\n",
            "iteration 434, loss: 0.12189902566617455\n",
            "iteration 435, loss: 0.09064531459221659\n",
            "iteration 436, loss: 0.06716650833738658\n",
            "iteration 437, loss: 0.09704418557512287\n",
            "iteration 438, loss: 0.03737569596281987\n",
            "iteration 439, loss: 0.04409882792982453\n",
            "iteration 440, loss: 0.058346363998719834\n",
            "iteration 441, loss: 0.09195565531311659\n",
            "iteration 442, loss: 0.10428308194859182\n",
            "iteration 443, loss: 0.07554002186351387\n",
            "iteration 444, loss: 0.0942281719632882\n",
            "iteration 445, loss: 0.05927994301374975\n",
            "iteration 446, loss: 0.1501518907079609\n",
            "iteration 447, loss: 0.050708978194223965\n",
            "iteration 448, loss: 0.058937356047920636\n",
            "iteration 449, loss: 0.11797674488332446\n",
            "iteration 450, loss: 0.048241929696738434\n",
            "iteration 451, loss: 0.12243607865643509\n",
            "iteration 452, loss: 0.09276321029651505\n",
            "iteration 453, loss: 0.11452202924630345\n",
            "iteration 454, loss: 0.04822086033120257\n",
            "iteration 455, loss: 0.10972733997046094\n",
            "iteration 456, loss: 0.08512626318352953\n",
            "iteration 457, loss: 0.07694873543381457\n",
            "iteration 458, loss: 0.03550840250052041\n",
            "iteration 459, loss: 0.08583815206123582\n",
            "iteration 460, loss: 0.11581365355839901\n",
            "iteration 461, loss: 0.06634047500190568\n",
            "iteration 462, loss: 0.10973948987964821\n",
            "iteration 463, loss: 0.11718947887353187\n",
            "iteration 464, loss: 0.07471295718412739\n",
            "iteration 465, loss: 0.15396458038083097\n",
            "iteration 466, loss: 0.07437410354003557\n",
            "iteration 467, loss: 0.07854405737419329\n",
            "iteration 468, loss: 0.057321894281690704\n",
            "iteration 469, loss: 0.04483889090827434\n",
            "iteration 470, loss: 0.06251568734832635\n",
            "iteration 471, loss: 0.08801322801609754\n",
            "iteration 472, loss: 0.15239094053283816\n",
            "iteration 473, loss: 0.13012725054880064\n",
            "iteration 474, loss: 0.07856833513655456\n",
            "iteration 475, loss: 0.05206164207518542\n",
            "iteration 476, loss: 0.0690063110602385\n",
            "iteration 477, loss: 0.10460024810216703\n",
            "iteration 478, loss: 0.08989678655222642\n",
            "iteration 479, loss: 0.09617735851985063\n",
            "iteration 480, loss: 0.10640435036575335\n",
            "iteration 481, loss: 0.05439678446309436\n",
            "iteration 482, loss: 0.0521470179305671\n"
          ]
        }
      ]
    },
    {
      "cell_type": "code",
      "source": [],
      "metadata": {
        "id": "6Aem7nQkZ0Sw"
      },
      "execution_count": null,
      "outputs": []
    }
  ],
  "metadata": {
    "accelerator": "GPU",
    "colab": {
      "gpuType": "T4",
      "provenance": [],
      "include_colab_link": true
    },
    "kernelspec": {
      "display_name": "Python 3",
      "name": "python3"
    },
    "language_info": {
      "codemirror_mode": {
        "name": "ipython",
        "version": 3
      },
      "file_extension": ".py",
      "mimetype": "text/x-python",
      "name": "python",
      "nbconvert_exporter": "python",
      "pygments_lexer": "ipython3",
      "version": "3.9.16"
    },
    "widgets": {
      "application/vnd.jupyter.widget-state+json": {
        "59877955dfdf4ab1846f9c6d3ecfbf59": {
          "model_module": "@jupyter-widgets/controls",
          "model_name": "HBoxModel",
          "model_module_version": "1.5.0",
          "state": {
            "_dom_classes": [],
            "_model_module": "@jupyter-widgets/controls",
            "_model_module_version": "1.5.0",
            "_model_name": "HBoxModel",
            "_view_count": null,
            "_view_module": "@jupyter-widgets/controls",
            "_view_module_version": "1.5.0",
            "_view_name": "HBoxView",
            "box_style": "",
            "children": [
              "IPY_MODEL_6d2a760655c1495e9b33983917c6427d",
              "IPY_MODEL_005f6c819bbf4a839a362963ee39d193",
              "IPY_MODEL_ce3ce13124554890ae7b301514c36641"
            ],
            "layout": "IPY_MODEL_5637e272ce92454f9732b0c30cc8398f"
          }
        },
        "6d2a760655c1495e9b33983917c6427d": {
          "model_module": "@jupyter-widgets/controls",
          "model_name": "HTMLModel",
          "model_module_version": "1.5.0",
          "state": {
            "_dom_classes": [],
            "_model_module": "@jupyter-widgets/controls",
            "_model_module_version": "1.5.0",
            "_model_name": "HTMLModel",
            "_view_count": null,
            "_view_module": "@jupyter-widgets/controls",
            "_view_module_version": "1.5.0",
            "_view_name": "HTMLView",
            "description": "",
            "description_tooltip": null,
            "layout": "IPY_MODEL_094178846c9c4a05aba97a01cff69672",
            "placeholder": "​",
            "style": "IPY_MODEL_b6e68cd856f2434da15534975c6536e7",
            "value": "config.json: 100%"
          }
        },
        "005f6c819bbf4a839a362963ee39d193": {
          "model_module": "@jupyter-widgets/controls",
          "model_name": "FloatProgressModel",
          "model_module_version": "1.5.0",
          "state": {
            "_dom_classes": [],
            "_model_module": "@jupyter-widgets/controls",
            "_model_module_version": "1.5.0",
            "_model_name": "FloatProgressModel",
            "_view_count": null,
            "_view_module": "@jupyter-widgets/controls",
            "_view_module_version": "1.5.0",
            "_view_name": "ProgressView",
            "bar_style": "success",
            "description": "",
            "description_tooltip": null,
            "layout": "IPY_MODEL_6f2c93b2cd224bc0aedf0ef74d8bb30f",
            "max": 502,
            "min": 0,
            "orientation": "horizontal",
            "style": "IPY_MODEL_48e14a3088134e4a90b142bc794ea4a6",
            "value": 502
          }
        },
        "ce3ce13124554890ae7b301514c36641": {
          "model_module": "@jupyter-widgets/controls",
          "model_name": "HTMLModel",
          "model_module_version": "1.5.0",
          "state": {
            "_dom_classes": [],
            "_model_module": "@jupyter-widgets/controls",
            "_model_module_version": "1.5.0",
            "_model_name": "HTMLModel",
            "_view_count": null,
            "_view_module": "@jupyter-widgets/controls",
            "_view_module_version": "1.5.0",
            "_view_name": "HTMLView",
            "description": "",
            "description_tooltip": null,
            "layout": "IPY_MODEL_1fb39cbe4a1e450bad5b7e5112ad8865",
            "placeholder": "​",
            "style": "IPY_MODEL_112b536e5f344c678bd0903fbd4fbfc0",
            "value": " 502/502 [00:00&lt;00:00, 19.4kB/s]"
          }
        },
        "5637e272ce92454f9732b0c30cc8398f": {
          "model_module": "@jupyter-widgets/base",
          "model_name": "LayoutModel",
          "model_module_version": "1.2.0",
          "state": {
            "_model_module": "@jupyter-widgets/base",
            "_model_module_version": "1.2.0",
            "_model_name": "LayoutModel",
            "_view_count": null,
            "_view_module": "@jupyter-widgets/base",
            "_view_module_version": "1.2.0",
            "_view_name": "LayoutView",
            "align_content": null,
            "align_items": null,
            "align_self": null,
            "border": null,
            "bottom": null,
            "display": null,
            "flex": null,
            "flex_flow": null,
            "grid_area": null,
            "grid_auto_columns": null,
            "grid_auto_flow": null,
            "grid_auto_rows": null,
            "grid_column": null,
            "grid_gap": null,
            "grid_row": null,
            "grid_template_areas": null,
            "grid_template_columns": null,
            "grid_template_rows": null,
            "height": null,
            "justify_content": null,
            "justify_items": null,
            "left": null,
            "margin": null,
            "max_height": null,
            "max_width": null,
            "min_height": null,
            "min_width": null,
            "object_fit": null,
            "object_position": null,
            "order": null,
            "overflow": null,
            "overflow_x": null,
            "overflow_y": null,
            "padding": null,
            "right": null,
            "top": null,
            "visibility": null,
            "width": null
          }
        },
        "094178846c9c4a05aba97a01cff69672": {
          "model_module": "@jupyter-widgets/base",
          "model_name": "LayoutModel",
          "model_module_version": "1.2.0",
          "state": {
            "_model_module": "@jupyter-widgets/base",
            "_model_module_version": "1.2.0",
            "_model_name": "LayoutModel",
            "_view_count": null,
            "_view_module": "@jupyter-widgets/base",
            "_view_module_version": "1.2.0",
            "_view_name": "LayoutView",
            "align_content": null,
            "align_items": null,
            "align_self": null,
            "border": null,
            "bottom": null,
            "display": null,
            "flex": null,
            "flex_flow": null,
            "grid_area": null,
            "grid_auto_columns": null,
            "grid_auto_flow": null,
            "grid_auto_rows": null,
            "grid_column": null,
            "grid_gap": null,
            "grid_row": null,
            "grid_template_areas": null,
            "grid_template_columns": null,
            "grid_template_rows": null,
            "height": null,
            "justify_content": null,
            "justify_items": null,
            "left": null,
            "margin": null,
            "max_height": null,
            "max_width": null,
            "min_height": null,
            "min_width": null,
            "object_fit": null,
            "object_position": null,
            "order": null,
            "overflow": null,
            "overflow_x": null,
            "overflow_y": null,
            "padding": null,
            "right": null,
            "top": null,
            "visibility": null,
            "width": null
          }
        },
        "b6e68cd856f2434da15534975c6536e7": {
          "model_module": "@jupyter-widgets/controls",
          "model_name": "DescriptionStyleModel",
          "model_module_version": "1.5.0",
          "state": {
            "_model_module": "@jupyter-widgets/controls",
            "_model_module_version": "1.5.0",
            "_model_name": "DescriptionStyleModel",
            "_view_count": null,
            "_view_module": "@jupyter-widgets/base",
            "_view_module_version": "1.2.0",
            "_view_name": "StyleView",
            "description_width": ""
          }
        },
        "6f2c93b2cd224bc0aedf0ef74d8bb30f": {
          "model_module": "@jupyter-widgets/base",
          "model_name": "LayoutModel",
          "model_module_version": "1.2.0",
          "state": {
            "_model_module": "@jupyter-widgets/base",
            "_model_module_version": "1.2.0",
            "_model_name": "LayoutModel",
            "_view_count": null,
            "_view_module": "@jupyter-widgets/base",
            "_view_module_version": "1.2.0",
            "_view_name": "LayoutView",
            "align_content": null,
            "align_items": null,
            "align_self": null,
            "border": null,
            "bottom": null,
            "display": null,
            "flex": null,
            "flex_flow": null,
            "grid_area": null,
            "grid_auto_columns": null,
            "grid_auto_flow": null,
            "grid_auto_rows": null,
            "grid_column": null,
            "grid_gap": null,
            "grid_row": null,
            "grid_template_areas": null,
            "grid_template_columns": null,
            "grid_template_rows": null,
            "height": null,
            "justify_content": null,
            "justify_items": null,
            "left": null,
            "margin": null,
            "max_height": null,
            "max_width": null,
            "min_height": null,
            "min_width": null,
            "object_fit": null,
            "object_position": null,
            "order": null,
            "overflow": null,
            "overflow_x": null,
            "overflow_y": null,
            "padding": null,
            "right": null,
            "top": null,
            "visibility": null,
            "width": null
          }
        },
        "48e14a3088134e4a90b142bc794ea4a6": {
          "model_module": "@jupyter-widgets/controls",
          "model_name": "ProgressStyleModel",
          "model_module_version": "1.5.0",
          "state": {
            "_model_module": "@jupyter-widgets/controls",
            "_model_module_version": "1.5.0",
            "_model_name": "ProgressStyleModel",
            "_view_count": null,
            "_view_module": "@jupyter-widgets/base",
            "_view_module_version": "1.2.0",
            "_view_name": "StyleView",
            "bar_color": null,
            "description_width": ""
          }
        },
        "1fb39cbe4a1e450bad5b7e5112ad8865": {
          "model_module": "@jupyter-widgets/base",
          "model_name": "LayoutModel",
          "model_module_version": "1.2.0",
          "state": {
            "_model_module": "@jupyter-widgets/base",
            "_model_module_version": "1.2.0",
            "_model_name": "LayoutModel",
            "_view_count": null,
            "_view_module": "@jupyter-widgets/base",
            "_view_module_version": "1.2.0",
            "_view_name": "LayoutView",
            "align_content": null,
            "align_items": null,
            "align_self": null,
            "border": null,
            "bottom": null,
            "display": null,
            "flex": null,
            "flex_flow": null,
            "grid_area": null,
            "grid_auto_columns": null,
            "grid_auto_flow": null,
            "grid_auto_rows": null,
            "grid_column": null,
            "grid_gap": null,
            "grid_row": null,
            "grid_template_areas": null,
            "grid_template_columns": null,
            "grid_template_rows": null,
            "height": null,
            "justify_content": null,
            "justify_items": null,
            "left": null,
            "margin": null,
            "max_height": null,
            "max_width": null,
            "min_height": null,
            "min_width": null,
            "object_fit": null,
            "object_position": null,
            "order": null,
            "overflow": null,
            "overflow_x": null,
            "overflow_y": null,
            "padding": null,
            "right": null,
            "top": null,
            "visibility": null,
            "width": null
          }
        },
        "112b536e5f344c678bd0903fbd4fbfc0": {
          "model_module": "@jupyter-widgets/controls",
          "model_name": "DescriptionStyleModel",
          "model_module_version": "1.5.0",
          "state": {
            "_model_module": "@jupyter-widgets/controls",
            "_model_module_version": "1.5.0",
            "_model_name": "DescriptionStyleModel",
            "_view_count": null,
            "_view_module": "@jupyter-widgets/base",
            "_view_module_version": "1.2.0",
            "_view_name": "StyleView",
            "description_width": ""
          }
        },
        "a1611a7cdca54016ab6a07f76faea9a4": {
          "model_module": "@jupyter-widgets/controls",
          "model_name": "HBoxModel",
          "model_module_version": "1.5.0",
          "state": {
            "_dom_classes": [],
            "_model_module": "@jupyter-widgets/controls",
            "_model_module_version": "1.5.0",
            "_model_name": "HBoxModel",
            "_view_count": null,
            "_view_module": "@jupyter-widgets/controls",
            "_view_module_version": "1.5.0",
            "_view_name": "HBoxView",
            "box_style": "",
            "children": [
              "IPY_MODEL_df156b18aff249ebbe7b3c92a3258214",
              "IPY_MODEL_2c2ce6fc51a24c278c778da53c603b85",
              "IPY_MODEL_1c061ea137a6417da55f18ae8671656a"
            ],
            "layout": "IPY_MODEL_2bc6f9c9d94d4fb79b63bd717468394a"
          }
        },
        "df156b18aff249ebbe7b3c92a3258214": {
          "model_module": "@jupyter-widgets/controls",
          "model_name": "HTMLModel",
          "model_module_version": "1.5.0",
          "state": {
            "_dom_classes": [],
            "_model_module": "@jupyter-widgets/controls",
            "_model_module_version": "1.5.0",
            "_model_name": "HTMLModel",
            "_view_count": null,
            "_view_module": "@jupyter-widgets/controls",
            "_view_module_version": "1.5.0",
            "_view_name": "HTMLView",
            "description": "",
            "description_tooltip": null,
            "layout": "IPY_MODEL_8a1323e2b57d4afca9d2f33abbb465b4",
            "placeholder": "​",
            "style": "IPY_MODEL_86fecee400894cb4b4ec6585badeaeac",
            "value": "model.safetensors: 100%"
          }
        },
        "2c2ce6fc51a24c278c778da53c603b85": {
          "model_module": "@jupyter-widgets/controls",
          "model_name": "FloatProgressModel",
          "model_module_version": "1.5.0",
          "state": {
            "_dom_classes": [],
            "_model_module": "@jupyter-widgets/controls",
            "_model_module_version": "1.5.0",
            "_model_name": "FloatProgressModel",
            "_view_count": null,
            "_view_module": "@jupyter-widgets/controls",
            "_view_module_version": "1.5.0",
            "_view_name": "ProgressView",
            "bar_style": "success",
            "description": "",
            "description_tooltip": null,
            "layout": "IPY_MODEL_22f365f6fcf649f3aac6923a46ac029e",
            "max": 345579424,
            "min": 0,
            "orientation": "horizontal",
            "style": "IPY_MODEL_0c6a03bc8d61455eac328b0e5ea11a57",
            "value": 345579424
          }
        },
        "1c061ea137a6417da55f18ae8671656a": {
          "model_module": "@jupyter-widgets/controls",
          "model_name": "HTMLModel",
          "model_module_version": "1.5.0",
          "state": {
            "_dom_classes": [],
            "_model_module": "@jupyter-widgets/controls",
            "_model_module_version": "1.5.0",
            "_model_name": "HTMLModel",
            "_view_count": null,
            "_view_module": "@jupyter-widgets/controls",
            "_view_module_version": "1.5.0",
            "_view_name": "HTMLView",
            "description": "",
            "description_tooltip": null,
            "layout": "IPY_MODEL_c0953bd763b043b0b329b840a24e24ca",
            "placeholder": "​",
            "style": "IPY_MODEL_08c822e487dc4f4bb5091384de499a61",
            "value": " 346M/346M [00:01&lt;00:00, 233MB/s]"
          }
        },
        "2bc6f9c9d94d4fb79b63bd717468394a": {
          "model_module": "@jupyter-widgets/base",
          "model_name": "LayoutModel",
          "model_module_version": "1.2.0",
          "state": {
            "_model_module": "@jupyter-widgets/base",
            "_model_module_version": "1.2.0",
            "_model_name": "LayoutModel",
            "_view_count": null,
            "_view_module": "@jupyter-widgets/base",
            "_view_module_version": "1.2.0",
            "_view_name": "LayoutView",
            "align_content": null,
            "align_items": null,
            "align_self": null,
            "border": null,
            "bottom": null,
            "display": null,
            "flex": null,
            "flex_flow": null,
            "grid_area": null,
            "grid_auto_columns": null,
            "grid_auto_flow": null,
            "grid_auto_rows": null,
            "grid_column": null,
            "grid_gap": null,
            "grid_row": null,
            "grid_template_areas": null,
            "grid_template_columns": null,
            "grid_template_rows": null,
            "height": null,
            "justify_content": null,
            "justify_items": null,
            "left": null,
            "margin": null,
            "max_height": null,
            "max_width": null,
            "min_height": null,
            "min_width": null,
            "object_fit": null,
            "object_position": null,
            "order": null,
            "overflow": null,
            "overflow_x": null,
            "overflow_y": null,
            "padding": null,
            "right": null,
            "top": null,
            "visibility": null,
            "width": null
          }
        },
        "8a1323e2b57d4afca9d2f33abbb465b4": {
          "model_module": "@jupyter-widgets/base",
          "model_name": "LayoutModel",
          "model_module_version": "1.2.0",
          "state": {
            "_model_module": "@jupyter-widgets/base",
            "_model_module_version": "1.2.0",
            "_model_name": "LayoutModel",
            "_view_count": null,
            "_view_module": "@jupyter-widgets/base",
            "_view_module_version": "1.2.0",
            "_view_name": "LayoutView",
            "align_content": null,
            "align_items": null,
            "align_self": null,
            "border": null,
            "bottom": null,
            "display": null,
            "flex": null,
            "flex_flow": null,
            "grid_area": null,
            "grid_auto_columns": null,
            "grid_auto_flow": null,
            "grid_auto_rows": null,
            "grid_column": null,
            "grid_gap": null,
            "grid_row": null,
            "grid_template_areas": null,
            "grid_template_columns": null,
            "grid_template_rows": null,
            "height": null,
            "justify_content": null,
            "justify_items": null,
            "left": null,
            "margin": null,
            "max_height": null,
            "max_width": null,
            "min_height": null,
            "min_width": null,
            "object_fit": null,
            "object_position": null,
            "order": null,
            "overflow": null,
            "overflow_x": null,
            "overflow_y": null,
            "padding": null,
            "right": null,
            "top": null,
            "visibility": null,
            "width": null
          }
        },
        "86fecee400894cb4b4ec6585badeaeac": {
          "model_module": "@jupyter-widgets/controls",
          "model_name": "DescriptionStyleModel",
          "model_module_version": "1.5.0",
          "state": {
            "_model_module": "@jupyter-widgets/controls",
            "_model_module_version": "1.5.0",
            "_model_name": "DescriptionStyleModel",
            "_view_count": null,
            "_view_module": "@jupyter-widgets/base",
            "_view_module_version": "1.2.0",
            "_view_name": "StyleView",
            "description_width": ""
          }
        },
        "22f365f6fcf649f3aac6923a46ac029e": {
          "model_module": "@jupyter-widgets/base",
          "model_name": "LayoutModel",
          "model_module_version": "1.2.0",
          "state": {
            "_model_module": "@jupyter-widgets/base",
            "_model_module_version": "1.2.0",
            "_model_name": "LayoutModel",
            "_view_count": null,
            "_view_module": "@jupyter-widgets/base",
            "_view_module_version": "1.2.0",
            "_view_name": "LayoutView",
            "align_content": null,
            "align_items": null,
            "align_self": null,
            "border": null,
            "bottom": null,
            "display": null,
            "flex": null,
            "flex_flow": null,
            "grid_area": null,
            "grid_auto_columns": null,
            "grid_auto_flow": null,
            "grid_auto_rows": null,
            "grid_column": null,
            "grid_gap": null,
            "grid_row": null,
            "grid_template_areas": null,
            "grid_template_columns": null,
            "grid_template_rows": null,
            "height": null,
            "justify_content": null,
            "justify_items": null,
            "left": null,
            "margin": null,
            "max_height": null,
            "max_width": null,
            "min_height": null,
            "min_width": null,
            "object_fit": null,
            "object_position": null,
            "order": null,
            "overflow": null,
            "overflow_x": null,
            "overflow_y": null,
            "padding": null,
            "right": null,
            "top": null,
            "visibility": null,
            "width": null
          }
        },
        "0c6a03bc8d61455eac328b0e5ea11a57": {
          "model_module": "@jupyter-widgets/controls",
          "model_name": "ProgressStyleModel",
          "model_module_version": "1.5.0",
          "state": {
            "_model_module": "@jupyter-widgets/controls",
            "_model_module_version": "1.5.0",
            "_model_name": "ProgressStyleModel",
            "_view_count": null,
            "_view_module": "@jupyter-widgets/base",
            "_view_module_version": "1.2.0",
            "_view_name": "StyleView",
            "bar_color": null,
            "description_width": ""
          }
        },
        "c0953bd763b043b0b329b840a24e24ca": {
          "model_module": "@jupyter-widgets/base",
          "model_name": "LayoutModel",
          "model_module_version": "1.2.0",
          "state": {
            "_model_module": "@jupyter-widgets/base",
            "_model_module_version": "1.2.0",
            "_model_name": "LayoutModel",
            "_view_count": null,
            "_view_module": "@jupyter-widgets/base",
            "_view_module_version": "1.2.0",
            "_view_name": "LayoutView",
            "align_content": null,
            "align_items": null,
            "align_self": null,
            "border": null,
            "bottom": null,
            "display": null,
            "flex": null,
            "flex_flow": null,
            "grid_area": null,
            "grid_auto_columns": null,
            "grid_auto_flow": null,
            "grid_auto_rows": null,
            "grid_column": null,
            "grid_gap": null,
            "grid_row": null,
            "grid_template_areas": null,
            "grid_template_columns": null,
            "grid_template_rows": null,
            "height": null,
            "justify_content": null,
            "justify_items": null,
            "left": null,
            "margin": null,
            "max_height": null,
            "max_width": null,
            "min_height": null,
            "min_width": null,
            "object_fit": null,
            "object_position": null,
            "order": null,
            "overflow": null,
            "overflow_x": null,
            "overflow_y": null,
            "padding": null,
            "right": null,
            "top": null,
            "visibility": null,
            "width": null
          }
        },
        "08c822e487dc4f4bb5091384de499a61": {
          "model_module": "@jupyter-widgets/controls",
          "model_name": "DescriptionStyleModel",
          "model_module_version": "1.5.0",
          "state": {
            "_model_module": "@jupyter-widgets/controls",
            "_model_module_version": "1.5.0",
            "_model_name": "DescriptionStyleModel",
            "_view_count": null,
            "_view_module": "@jupyter-widgets/base",
            "_view_module_version": "1.2.0",
            "_view_name": "StyleView",
            "description_width": ""
          }
        }
      }
    }
  },
  "nbformat": 4,
  "nbformat_minor": 0
}